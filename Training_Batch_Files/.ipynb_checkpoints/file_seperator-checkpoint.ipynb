{
 "cells": [
  {
   "cell_type": "code",
   "execution_count": null,
   "metadata": {},
   "outputs": [
    {
     "ename": "",
     "evalue": "",
     "output_type": "error",
     "traceback": [
      "\u001b[1;31mRunning cells with 'Python 3.8.3 32-bit' requires ipykernel package.\n",
      "Run the following command to install 'ipykernel' into the Python environment. \n",
      "Command: 'c:/Users/Saurabh/AppData/Local/Programs/Python/Python38-32/python.exe -m pip install ipykernel -U --user --force-reinstall'"
     ]
    }
   ],
   "source": [
    "\n",
    "\n",
    "date = 28011990\n",
    "time = 120210\n",
    "i=0\n",
    "\n",
    "\n",
    "for j in range(0,11):\n",
    "    new = data.iloc[i:i+101]\n",
    "    name = \"fraudDetection_\" +str(date) + '_' + str(time) + \".csv\"\n",
    "    new.to_csv(name, index=None, header=True)\n",
    "    i = 101\n",
    "    date+=1\n",
    "    time+=1"
   ]
  }
 ],
 "metadata": {
  "kernelspec": {
   "display_name": "Python 3.8.3 32-bit",
   "language": "python",
   "name": "python3"
  },
  "language_info": {
   "codemirror_mode": {
    "name": "ipython",
    "version": 3
   },
   "file_extension": ".py",
   "mimetype": "text/x-python",
   "name": "python",
   "nbconvert_exporter": "python",
   "pygments_lexer": "ipython3",
   "version": "3.8.3"
  },
  "vscode": {
   "interpreter": {
    "hash": "88bf4b066437b927c6f05f0725d1c611c540c6e89a33c173881179bf66e79781"
   }
  }
 },
 "nbformat": 4,
 "nbformat_minor": 4
}
